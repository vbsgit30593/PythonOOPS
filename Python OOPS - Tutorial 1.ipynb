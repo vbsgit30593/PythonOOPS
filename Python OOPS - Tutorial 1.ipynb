{
 "cells": [
  {
   "cell_type": "markdown",
   "id": "14490167",
   "metadata": {},
   "source": [
    "## URL - https://www.youtube.com/watch?v=Ej_02ICOIgs"
   ]
  },
  {
   "cell_type": "markdown",
   "id": "1bed3de0",
   "metadata": {},
   "source": [
    "### Magic methods\n",
    "`__init__` - Constructor\n",
    "\n",
    "`__dict__` - Provides all attributes of the class\n",
    "\n",
    "`__repr__` - Object representation\n",
    "\n",
    "`self.__class__.__name__` - Name of class"
   ]
  },
  {
   "cell_type": "code",
   "execution_count": 28,
   "id": "7bab6eb2",
   "metadata": {},
   "outputs": [
    {
     "name": "stdout",
     "output_type": "stream",
     "text": [
      "Total for Vaibhav: 80.0\n",
      "{'__module__': '__main__', 'pay_rate': 0.8, '__init__': <function Item.__init__ at 0x7fe9e09cc820>, 'calculate': <function Item.calculate at 0x7fe9e09ccdc0>, 'apply_discount': <function Item.apply_discount at 0x7fe9e09ccca0>, '__dict__': <attribute '__dict__' of 'Item' objects>, '__weakref__': <attribute '__weakref__' of 'Item' objects>, '__doc__': None}\n",
      "{'name': 'Vaibhav', 'quantity': 10, 'price': 8.0}\n",
      "Total for Vaibhav: 50.0\n"
     ]
    }
   ],
   "source": [
    "class Item:\n",
    "    \n",
    "    #class attrs\n",
    "    pay_rate = 0.8\n",
    "    def __init__(self, name: str, price:float, quantity=0):\n",
    "        \n",
    "        #add additional constraints for class variables\n",
    "        assert price >= 0, f\"Price {price} is not >= 0\"\n",
    "        assert quantity >= 0, f\"Quantity {quantity} is not >= 0\"\n",
    "        \n",
    "        #Initialization\n",
    "        self.name = name\n",
    "        self.quantity = quantity\n",
    "        self.price = price\n",
    "        \n",
    "        \n",
    "    \n",
    "    def calculate(self):\n",
    "        print (f\"Total for {self.name}: {self.quantity * self.price}\")\n",
    "        \n",
    "    def apply_discount(self):\n",
    "        self.price = self.price * self.pay_rate\n",
    "\n",
    "item1 = Item(\"Vaibhav\", 10, 10)\n",
    "item1.apply_discount()\n",
    "item1.calculate()\n",
    "\n",
    "# Can add more attrs\n",
    "item.has_numpad = False\n",
    "    \n",
    "#item2 = Item(\"Vaibhav\", -1, -2)\n",
    "#item1.calculate()\n",
    "print (Item.__dict__)\n",
    "print (item1.__dict__)\n",
    "\n",
    "item3 = Item(\"Vaibhav\", 10, 10)\n",
    "item3.pay_rate = 0.5\n",
    "item3.apply_discount()\n",
    "item3.calculate()"
   ]
  },
  {
   "cell_type": "code",
   "execution_count": 34,
   "id": "99a53c9c",
   "metadata": {},
   "outputs": [
    {
     "name": "stdout",
     "output_type": "stream",
     "text": [
      "[Item('Phone', 100, 1), Item('Laptop', 1000, 3), Item('Cable', 10, 5), Item('Mouse', 50, 5), Item('Keyboard', 75, 5)]\n"
     ]
    }
   ],
   "source": [
    "class Item:\n",
    "    \n",
    "    #class attrs\n",
    "    pay_rate = 0.8\n",
    "    all = []\n",
    "    def __init__(self, name: str, price:float, quantity=0):\n",
    "        \n",
    "        #add additional constraints for class variables\n",
    "        assert price >= 0, f\"Price {price} is not >= 0\"\n",
    "        assert quantity >= 0, f\"Quantity {quantity} is not >= 0\"\n",
    "        \n",
    "        #Initialization\n",
    "        self.name = name\n",
    "        self.quantity = quantity\n",
    "        self.price = price\n",
    "        \n",
    "        # Tracking all objects\n",
    "        Item.all.append(self)\n",
    "    \n",
    "    def calculate(self):\n",
    "        print (f\"Total for {self.name}: {self.quantity * self.price}\")\n",
    "        \n",
    "    def apply_discount(self):\n",
    "        self.price = self.price * self.pay_rate\n",
    "        \n",
    "    def __repr__(self):\n",
    "        return f\"Item('{self.name}', {self.price}, {self.quantity})\"\n",
    "\n",
    "item1 = Item(\"Phone\", 100, 1)\n",
    "item2 = Item(\"Laptop\", 1000, 3)\n",
    "item3 = Item(\"Cable\", 10, 5)\n",
    "item4 = Item(\"Mouse\", 50, 5)\n",
    "item5 = Item(\"Keyboard\", 75, 5)\n",
    "\n",
    "print (Item.all)"
   ]
  },
  {
   "cell_type": "markdown",
   "id": "1566d40d",
   "metadata": {},
   "source": [
    "# Class method\n",
    "Class methods are generally used to instantiate objects\n",
    "## instantiate from csv"
   ]
  },
  {
   "cell_type": "code",
   "execution_count": 49,
   "id": "76bd5454",
   "metadata": {},
   "outputs": [],
   "source": [
    "import csv\n",
    "class Item:\n",
    "    \n",
    "    #class attrs\n",
    "    pay_rate = 0.8\n",
    "    all = []\n",
    "    def __init__(self, name: str, price:float, quantity=0):\n",
    "        \n",
    "        #add additional constraints for class variables\n",
    "        assert price >= 0, f\"Price {price} is not >= 0\"\n",
    "        assert quantity >= 0, f\"Quantity {quantity} is not >= 0\"\n",
    "        \n",
    "        #Initialization\n",
    "        self.name = name\n",
    "        self.quantity = quantity\n",
    "        self.price = price\n",
    "        \n",
    "        # Tracking all objects\n",
    "        Item.all.append(self)\n",
    "    \n",
    "    def calculate(self):\n",
    "        print (f\"Total for {self.name}: {self.quantity * self.price}\")\n",
    "        \n",
    "    def apply_discount(self):\n",
    "        self.price = self.price * self.pay_rate\n",
    "    \n",
    "    # This is a class method .. Others are instance methods\n",
    "    # These methods send class reference as the first argument\n",
    "    @classmethod\n",
    "    def instantiate_from_csv(cls):\n",
    "        with open(\"items.csv\", \"r\") as f:\n",
    "            reader = csv.DictReader(f)\n",
    "            items = list(reader)\n",
    "        \n",
    "        for item in items:\n",
    "            Item(\n",
    "                name=item['name'],\n",
    "                price=float(item['price']),\n",
    "                quantity=int(item['quantity'])\n",
    "            )\n",
    "    \n",
    "    def __repr__(self):\n",
    "        return f\"Item('{self.name}', {self.price}, {self.quantity})\"\n",
    "\n",
    "    "
   ]
  },
  {
   "cell_type": "code",
   "execution_count": 50,
   "id": "83b08784",
   "metadata": {},
   "outputs": [],
   "source": [
    "Item.instantiate_from_csv()"
   ]
  },
  {
   "cell_type": "code",
   "execution_count": 51,
   "id": "6f42b654",
   "metadata": {},
   "outputs": [
    {
     "data": {
      "text/plain": [
       "[Item('Phone', 100.0, 1),\n",
       " Item('Laptop', 1000.0, 3),\n",
       " Item('Cable', 10.0, 5),\n",
       " Item('Mouse', 50.0, 5),\n",
       " Item('Keyboard', 75.0, 5)]"
      ]
     },
     "execution_count": 51,
     "metadata": {},
     "output_type": "execute_result"
    }
   ],
   "source": [
    "Item.all"
   ]
  },
  {
   "cell_type": "markdown",
   "id": "9fb7e453",
   "metadata": {},
   "source": [
    "# Static methods\n",
    "We use SM when we want to do something that is not unique to an instance"
   ]
  },
  {
   "cell_type": "code",
   "execution_count": 70,
   "id": "e7486a2a",
   "metadata": {},
   "outputs": [],
   "source": [
    "import csv\n",
    "class Item:\n",
    "    \n",
    "    #class attrs\n",
    "    pay_rate = 0.8\n",
    "    all = []\n",
    "    def __init__(self, name: str, price:float, quantity=0):\n",
    "        \n",
    "        #add additional constraints for class variables\n",
    "        assert price >= 0, f\"Price {price} is not >= 0\"\n",
    "        assert quantity >= 0, f\"Quantity {quantity} is not >= 0\"\n",
    "        \n",
    "        #Initialization\n",
    "        self.name = name\n",
    "        self.quantity = quantity\n",
    "        self.price = price\n",
    "        \n",
    "        # Tracking all objects\n",
    "        Item.all.append(self)\n",
    "    \n",
    "    def calculate(self):\n",
    "        print (f\"Total for {self.name}: {self.quantity * self.price}\")\n",
    "        \n",
    "    def apply_discount(self):\n",
    "        self.price = self.price * self.pay_rate\n",
    "    \n",
    "    # This is a class method .. Others are instance methods\n",
    "    # These methods send class reference as the first argument\n",
    "    @classmethod\n",
    "    def instantiate_from_csv(cls):\n",
    "        with open(\"items.csv\", \"r\") as f:\n",
    "            reader = csv.DictReader(f)\n",
    "            items = list(reader)\n",
    "        \n",
    "        for item in items:\n",
    "            Item(\n",
    "                name=item['name'],\n",
    "                price=float(item['price']),\n",
    "                quantity=int(item['quantity'])\n",
    "            )\n",
    "    \n",
    "    # Static methods dont send the instance as the first argument\n",
    "    # This is like a regular isolated function\n",
    "    @staticmethod\n",
    "    def is_integer(num):\n",
    "        if isinstance(num, float):\n",
    "            #Counts out the floats that are point 0\n",
    "            return num.is_integer()\n",
    "        \n",
    "        elif isinstance(num, int):\n",
    "            return True\n",
    "        \n",
    "        else:\n",
    "            return False\n",
    "        \n",
    "    def __repr__(self):\n",
    "        return f\"{self.__class__.__name__}('{self.name}', {self.price}, {self.quantity})\"\n",
    "\n",
    "    "
   ]
  },
  {
   "cell_type": "code",
   "execution_count": 71,
   "id": "55e82756",
   "metadata": {},
   "outputs": [
    {
     "data": {
      "text/plain": [
       "True"
      ]
     },
     "execution_count": 71,
     "metadata": {},
     "output_type": "execute_result"
    }
   ],
   "source": [
    "Item.is_integer(7.0)"
   ]
  },
  {
   "cell_type": "code",
   "execution_count": 72,
   "id": "4b1c5ec8",
   "metadata": {},
   "outputs": [
    {
     "data": {
      "text/plain": [
       "False"
      ]
     },
     "execution_count": 72,
     "metadata": {},
     "output_type": "execute_result"
    }
   ],
   "source": [
    "Item.is_integer(7.5)"
   ]
  },
  {
   "cell_type": "code",
   "execution_count": 73,
   "id": "c22b141b",
   "metadata": {},
   "outputs": [
    {
     "data": {
      "text/plain": [
       "True"
      ]
     },
     "execution_count": 73,
     "metadata": {},
     "output_type": "execute_result"
    }
   ],
   "source": [
    "Item.is_integer(5)"
   ]
  },
  {
   "cell_type": "markdown",
   "id": "41d6aebb",
   "metadata": {},
   "source": [
    "# Inheritance"
   ]
  },
  {
   "cell_type": "code",
   "execution_count": 71,
   "id": "7fc00357",
   "metadata": {},
   "outputs": [
    {
     "name": "stdout",
     "output_type": "stream",
     "text": [
      "Total for Samsung: 1000\n"
     ]
    }
   ],
   "source": [
    "class Phone(Item):\n",
    "    def __init__(self, name, price, quantity=0, broken_phones=0):\n",
    "        super().__init__(name, price, quantity)\n",
    "        \n",
    "        assert broken_phones >= 0, f\"Broken phones value {broken_phones} not >=0\"\n",
    "        self.broken_phones = broken_phones\n",
    "\n",
    "phone1 = Phone(\"Samsung\", 10, 100, 1)\n",
    "phone1.calculate()\n",
    "    "
   ]
  },
  {
   "cell_type": "code",
   "execution_count": 78,
   "id": "43715efa",
   "metadata": {},
   "outputs": [
    {
     "data": {
      "text/plain": [
       "[Phone('Samsung', 10, 100), Phone('Samsung', 10, 100)]"
      ]
     },
     "execution_count": 78,
     "metadata": {},
     "output_type": "execute_result"
    }
   ],
   "source": [
    "Item.all"
   ]
  },
  {
   "cell_type": "code",
   "execution_count": 79,
   "id": "4b2eb30e",
   "metadata": {},
   "outputs": [
    {
     "data": {
      "text/plain": [
       "[Phone('Samsung', 10, 100), Phone('Samsung', 10, 100)]"
      ]
     },
     "execution_count": 79,
     "metadata": {},
     "output_type": "execute_result"
    }
   ],
   "source": [
    "Phone.all"
   ]
  },
  {
   "cell_type": "markdown",
   "id": "7b2059bc",
   "metadata": {},
   "source": [
    "## Property decorator\n",
    "Read only attribute"
   ]
  },
  {
   "cell_type": "code",
   "execution_count": 15,
   "id": "3b19b766",
   "metadata": {},
   "outputs": [],
   "source": [
    "import csv\n",
    "class Item:\n",
    "    \n",
    "    #class attrs\n",
    "    pay_rate = 0.8\n",
    "    all = []\n",
    "    def __init__(self, name: str, price:float, quantity=0):\n",
    "        \n",
    "        #add additional constraints for class variables\n",
    "        assert price >= 0, f\"Price {price} is not >= 0\"\n",
    "        assert quantity >= 0, f\"Quantity {quantity} is not >= 0\"\n",
    "        \n",
    "        #Initialization\n",
    "        self.__name = name # This makes it a private variable\n",
    "        self.quantity = quantity\n",
    "        self.price = price\n",
    "        \n",
    "        # Tracking all objects\n",
    "        Item.all.append(self)\n",
    "    \n",
    "    \n",
    "    @property\n",
    "    def name(self):\n",
    "        return self.__name\n",
    "    \n",
    "    def calculate(self):\n",
    "        print (f\"Total for {self.name}: {self.quantity * self.price}\")\n",
    "        \n",
    "    def apply_discount(self):\n",
    "        self.price = self.price * self.pay_rate\n",
    "    \n",
    "    # This is a class method .. Others are instance methods\n",
    "    # These methods send class reference as the first argument\n",
    "    @classmethod\n",
    "    def instantiate_from_csv(cls):\n",
    "        with open(\"items.csv\", \"r\") as f:\n",
    "            reader = csv.DictReader(f)\n",
    "            items = list(reader)\n",
    "        \n",
    "        for item in items:\n",
    "            Item(\n",
    "                name=item['name'],\n",
    "                price=float(item['price']),\n",
    "                quantity=int(item['quantity'])\n",
    "            )\n",
    "    \n",
    "    # Static methods dont send the instance as the first argument\n",
    "    # This is like a regular isolated function\n",
    "    @staticmethod\n",
    "    def is_integer(num):\n",
    "        if isinstance(num, float):\n",
    "            #Counts out the floats that are point 0\n",
    "            return num.is_integer()\n",
    "        \n",
    "        elif isinstance(num, int):\n",
    "            return True\n",
    "        \n",
    "        else:\n",
    "            return False\n",
    "        \n",
    "    def __repr__(self):\n",
    "        return f\"{self.__class__.__name__}('{self.name}', {self.price}, {self.quantity})\""
   ]
  },
  {
   "cell_type": "code",
   "execution_count": 16,
   "id": "72a24323",
   "metadata": {},
   "outputs": [],
   "source": [
    "item = Item(\"item1\", 100, 20)"
   ]
  },
  {
   "cell_type": "code",
   "execution_count": 17,
   "id": "be7d5e90",
   "metadata": {},
   "outputs": [
    {
     "data": {
      "text/plain": [
       "100"
      ]
     },
     "execution_count": 17,
     "metadata": {},
     "output_type": "execute_result"
    }
   ],
   "source": [
    "item.price"
   ]
  },
  {
   "cell_type": "code",
   "execution_count": 18,
   "id": "cf05c266",
   "metadata": {},
   "outputs": [
    {
     "ename": "AttributeError",
     "evalue": "'Item' object has no attribute '__name'",
     "output_type": "error",
     "traceback": [
      "\u001b[0;31m---------------------------------------------------------------------------\u001b[0m",
      "\u001b[0;31mAttributeError\u001b[0m                            Traceback (most recent call last)",
      "\u001b[0;32m<ipython-input-18-e43de30fa3ed>\u001b[0m in \u001b[0;36m<module>\u001b[0;34m\u001b[0m\n\u001b[0;32m----> 1\u001b[0;31m \u001b[0mitem\u001b[0m\u001b[0;34m.\u001b[0m\u001b[0m__name\u001b[0m \u001b[0;31m# not accessible\u001b[0m\u001b[0;34m\u001b[0m\u001b[0;34m\u001b[0m\u001b[0m\n\u001b[0m",
      "\u001b[0;31mAttributeError\u001b[0m: 'Item' object has no attribute '__name'"
     ]
    }
   ],
   "source": [
    "item.__name # not accessible"
   ]
  },
  {
   "cell_type": "code",
   "execution_count": 20,
   "id": "ba72463e",
   "metadata": {},
   "outputs": [
    {
     "data": {
      "text/plain": [
       "'item1'"
      ]
     },
     "execution_count": 20,
     "metadata": {},
     "output_type": "execute_result"
    }
   ],
   "source": [
    "item.name"
   ]
  },
  {
   "cell_type": "markdown",
   "id": "9510ff5e",
   "metadata": {},
   "source": [
    "* This is accessible as a read only attribute due to property. \n",
    "* Commenting out that code flags error on access\n",
    "* Property fields can't be modified as seen below"
   ]
  },
  {
   "cell_type": "code",
   "execution_count": 21,
   "id": "ab3e80dd",
   "metadata": {},
   "outputs": [
    {
     "ename": "AttributeError",
     "evalue": "can't set attribute",
     "output_type": "error",
     "traceback": [
      "\u001b[0;31m---------------------------------------------------------------------------\u001b[0m",
      "\u001b[0;31mAttributeError\u001b[0m                            Traceback (most recent call last)",
      "\u001b[0;32m<ipython-input-21-519431d82ef8>\u001b[0m in \u001b[0;36m<module>\u001b[0;34m\u001b[0m\n\u001b[0;32m----> 1\u001b[0;31m \u001b[0mitem\u001b[0m\u001b[0;34m.\u001b[0m\u001b[0mname\u001b[0m \u001b[0;34m=\u001b[0m \u001b[0;36m10\u001b[0m\u001b[0;34m\u001b[0m\u001b[0;34m\u001b[0m\u001b[0m\n\u001b[0m",
      "\u001b[0;31mAttributeError\u001b[0m: can't set attribute"
     ]
    }
   ],
   "source": [
    "item.name = 10"
   ]
  },
  {
   "cell_type": "markdown",
   "id": "bb7eb5e0",
   "metadata": {},
   "source": [
    "## So, how to set the values for these attributes?\n",
    "* `Use setters`\n",
    "\n",
    "Setters can be used to add conditions while setting values"
   ]
  },
  {
   "cell_type": "code",
   "execution_count": 46,
   "id": "3c17b9a1",
   "metadata": {},
   "outputs": [],
   "source": [
    "import csv\n",
    "class Item:\n",
    "    \n",
    "    #class attrs\n",
    "    pay_rate = 0.8\n",
    "    all = []\n",
    "    def __init__(self, name: str, price:float, quantity=0):\n",
    "        \n",
    "        #add additional constraints for class variables\n",
    "        assert price >= 0, f\"Price {price} is not >= 0\"\n",
    "        assert quantity >= 0, f\"Quantity {quantity} is not >= 0\"\n",
    "        \n",
    "        #Initialization\n",
    "        self.__name = name # This makes it a private variable\n",
    "        self.quantity = quantity\n",
    "        self.price = price\n",
    "        \n",
    "        # Tracking all objects\n",
    "        Item.all.append(self)\n",
    "    \n",
    "    \n",
    "    @property\n",
    "    def name(self):\n",
    "        print (\"You are trying to get name\")\n",
    "        return self.__name\n",
    "    \n",
    "    @name.setter\n",
    "    def name(self, value):\n",
    "        #print (\"Hey you called me!! I am your name setter\")\n",
    "        if len(value) > 5:\n",
    "            raise Exception(f\"The name '{value}' is too long\")\n",
    "        else:\n",
    "            self.__name = value\n",
    "        \n",
    "    \n",
    "    def calculate(self):\n",
    "        print (f\"Total for {self.name}: {self.quantity * self.price}\")\n",
    "        \n",
    "    def apply_discount(self):\n",
    "        self.price = self.price * self.pay_rate\n",
    "    \n",
    "    # This is a class method .. Others are instance methods\n",
    "    # These methods send class reference as the first argument\n",
    "    @classmethod\n",
    "    def instantiate_from_csv(cls):\n",
    "        with open(\"items.csv\", \"r\") as f:\n",
    "            reader = csv.DictReader(f)\n",
    "            items = list(reader)\n",
    "        \n",
    "        for item in items:\n",
    "            Item(\n",
    "                name=item['name'],\n",
    "                price=float(item['price']),\n",
    "                quantity=int(item['quantity'])\n",
    "            )\n",
    "    \n",
    "    # Static methods dont send the instance as the first argument\n",
    "    # This is like a regular isolated function\n",
    "    @staticmethod\n",
    "    def is_integer(num):\n",
    "        if isinstance(num, float):\n",
    "            #Counts out the floats that are point 0\n",
    "            return num.is_integer()\n",
    "        \n",
    "        elif isinstance(num, int):\n",
    "            return True\n",
    "        \n",
    "        else:\n",
    "            return False\n",
    "        \n",
    "    def __repr__(self):\n",
    "        return f\"{self.__class__.__name__}('{self.name}', {self.price}, {self.quantity})\""
   ]
  },
  {
   "cell_type": "code",
   "execution_count": 47,
   "id": "a59be866",
   "metadata": {},
   "outputs": [],
   "source": [
    "item = Item(\"item2\", 100, 20)"
   ]
  },
  {
   "cell_type": "code",
   "execution_count": 48,
   "id": "7681daaa",
   "metadata": {},
   "outputs": [],
   "source": [
    "item.name = \"name1\""
   ]
  },
  {
   "cell_type": "code",
   "execution_count": 49,
   "id": "470f5e43",
   "metadata": {},
   "outputs": [
    {
     "name": "stdout",
     "output_type": "stream",
     "text": [
      "You are trying to get name\n",
      "name1\n"
     ]
    }
   ],
   "source": [
    "print(item.name)"
   ]
  },
  {
   "cell_type": "code",
   "execution_count": 50,
   "id": "f8cf7e87",
   "metadata": {},
   "outputs": [
    {
     "ename": "Exception",
     "evalue": "The name 'Setlongname' is too long",
     "output_type": "error",
     "traceback": [
      "\u001b[0;31m---------------------------------------------------------------------------\u001b[0m",
      "\u001b[0;31mException\u001b[0m                                 Traceback (most recent call last)",
      "\u001b[0;32m<ipython-input-50-1d4cfe19cae1>\u001b[0m in \u001b[0;36m<module>\u001b[0;34m\u001b[0m\n\u001b[0;32m----> 1\u001b[0;31m \u001b[0mitem\u001b[0m\u001b[0;34m.\u001b[0m\u001b[0mname\u001b[0m \u001b[0;34m=\u001b[0m \u001b[0;34m\"Setlongname\"\u001b[0m\u001b[0;34m\u001b[0m\u001b[0;34m\u001b[0m\u001b[0m\n\u001b[0m",
      "\u001b[0;32m<ipython-input-46-2db4b679c711>\u001b[0m in \u001b[0;36mname\u001b[0;34m(self, value)\u001b[0m\n\u001b[1;32m     29\u001b[0m         \u001b[0;31m#print (\"Hey you called me!! I am your name setter\")\u001b[0m\u001b[0;34m\u001b[0m\u001b[0;34m\u001b[0m\u001b[0;34m\u001b[0m\u001b[0m\n\u001b[1;32m     30\u001b[0m         \u001b[0;32mif\u001b[0m \u001b[0mlen\u001b[0m\u001b[0;34m(\u001b[0m\u001b[0mvalue\u001b[0m\u001b[0;34m)\u001b[0m \u001b[0;34m>\u001b[0m \u001b[0;36m5\u001b[0m\u001b[0;34m:\u001b[0m\u001b[0;34m\u001b[0m\u001b[0;34m\u001b[0m\u001b[0m\n\u001b[0;32m---> 31\u001b[0;31m             \u001b[0;32mraise\u001b[0m \u001b[0mException\u001b[0m\u001b[0;34m(\u001b[0m\u001b[0;34mf\"The name '{value}' is too long\"\u001b[0m\u001b[0;34m)\u001b[0m\u001b[0;34m\u001b[0m\u001b[0;34m\u001b[0m\u001b[0m\n\u001b[0m\u001b[1;32m     32\u001b[0m         \u001b[0;32melse\u001b[0m\u001b[0;34m:\u001b[0m\u001b[0;34m\u001b[0m\u001b[0;34m\u001b[0m\u001b[0m\n\u001b[1;32m     33\u001b[0m             \u001b[0mself\u001b[0m\u001b[0;34m.\u001b[0m\u001b[0m__name\u001b[0m \u001b[0;34m=\u001b[0m \u001b[0mvalue\u001b[0m\u001b[0;34m\u001b[0m\u001b[0;34m\u001b[0m\u001b[0m\n",
      "\u001b[0;31mException\u001b[0m: The name 'Setlongname' is too long"
     ]
    }
   ],
   "source": [
    "item.name = \"Setlongname\""
   ]
  },
  {
   "cell_type": "markdown",
   "id": "2cbe0d04",
   "metadata": {},
   "source": [
    "`See how the exception gets triggered when trying to set the value`"
   ]
  },
  {
   "cell_type": "code",
   "execution_count": 54,
   "id": "ebc7a6e8",
   "metadata": {},
   "outputs": [],
   "source": [
    "import csv\n",
    "class Item:\n",
    "    \n",
    "    #class attrs\n",
    "    pay_rate = 0.8\n",
    "    all = []\n",
    "    def __init__(self, name: str, price:float, quantity=0):\n",
    "        \n",
    "        #add additional constraints for class variables\n",
    "        assert price >= 0, f\"Price {price} is not >= 0\"\n",
    "        assert quantity >= 0, f\"Quantity {quantity} is not >= 0\"\n",
    "        \n",
    "        #Initialization\n",
    "        self.__name = name # This makes it a private variable\n",
    "        self.quantity = quantity\n",
    "        self.__price = price\n",
    "        \n",
    "        # Tracking all objects\n",
    "        Item.all.append(self)\n",
    "    \n",
    "    \n",
    "    @property\n",
    "    def name(self):\n",
    "        print (\"You are trying to get name\")\n",
    "        return self.__name\n",
    "    \n",
    "    @name.setter\n",
    "    def name(self, value):\n",
    "        #print (\"Hey you called me!! I am your name setter\")\n",
    "        if len(value) > 5:\n",
    "            raise Exception(f\"The name '{value}' is too long\")\n",
    "        else:\n",
    "            self.__name = value\n",
    "        \n",
    "    @property\n",
    "    def price(self):\n",
    "        return self.__price\n",
    "        \n",
    "    def apply_discount(self):\n",
    "        self.__price = self.__price * self.pay_rate\n",
    "        \n",
    "    def apply_increment(self, incr_value):\n",
    "        self.__price = self.__price + self.__price * incr_value\n",
    "    \n",
    "    def calculate(self):\n",
    "        print (f\"Total for {self.name}: {self.quantity * self.__price}\")\n",
    "    # This is a class method .. Others are instance methods\n",
    "    # These methods send class reference as the first argument\n",
    "    @classmethod\n",
    "    def instantiate_from_csv(cls):\n",
    "        with open(\"items.csv\", \"r\") as f:\n",
    "            reader = csv.DictReader(f)\n",
    "            items = list(reader)\n",
    "        \n",
    "        for item in items:\n",
    "            Item(\n",
    "                name=item['name'],\n",
    "                price=float(item['price']),\n",
    "                quantity=int(item['quantity'])\n",
    "            )\n",
    "    \n",
    "    # Static methods dont send the instance as the first argument\n",
    "    # This is like a regular isolated function\n",
    "    @staticmethod\n",
    "    def is_integer(num):\n",
    "        if isinstance(num, float):\n",
    "            #Counts out the floats that are point 0\n",
    "            return num.is_integer()\n",
    "        \n",
    "        elif isinstance(num, int):\n",
    "            return True\n",
    "        \n",
    "        else:\n",
    "            return False\n",
    "        \n",
    "    def __repr__(self):\n",
    "        return f\"{self.__class__.__name__}('{self.name}', {self.__price}, {self.quantity})\""
   ]
  },
  {
   "cell_type": "code",
   "execution_count": 55,
   "id": "e8f913d9",
   "metadata": {},
   "outputs": [],
   "source": [
    "item = Item(\"item2\", 100, 20)"
   ]
  },
  {
   "cell_type": "code",
   "execution_count": 56,
   "id": "e55a2f26",
   "metadata": {},
   "outputs": [
    {
     "data": {
      "text/plain": [
       "120.0"
      ]
     },
     "execution_count": 56,
     "metadata": {},
     "output_type": "execute_result"
    }
   ],
   "source": [
    "item.apply_increment(0.2)\n",
    "item.price"
   ]
  },
  {
   "cell_type": "code",
   "execution_count": 57,
   "id": "2d0b1909",
   "metadata": {},
   "outputs": [
    {
     "data": {
      "text/plain": [
       "96.0"
      ]
     },
     "execution_count": 57,
     "metadata": {},
     "output_type": "execute_result"
    }
   ],
   "source": [
    "item.apply_discount()\n",
    "item.price"
   ]
  },
  {
   "cell_type": "markdown",
   "id": "355a4fb9",
   "metadata": {},
   "source": [
    "* The above behavior refers to `encapsulation` where you prevent direct access to class attributes"
   ]
  },
  {
   "cell_type": "markdown",
   "id": "f69f51d9",
   "metadata": {},
   "source": [
    "## Abstraction\n",
    "* Let's say we want to send an email - we create an email function\n",
    "* Email needs sub functions - connect, prepare_body, send \n",
    "* We need to hide these sub functions from instances as we should show as less unnecessary info to users as possible\n",
    "\n",
    "`This idea is called abstraction`\n",
    "\n",
    "* So we make those functions private"
   ]
  },
  {
   "cell_type": "code",
   "execution_count": 66,
   "id": "e26b9fd4",
   "metadata": {},
   "outputs": [],
   "source": [
    "import csv\n",
    "class Item:\n",
    "    \n",
    "    #class attrs\n",
    "    pay_rate = 0.8\n",
    "    all = []\n",
    "    def __init__(self, name: str, price:float, quantity=0):\n",
    "        \n",
    "        #add additional constraints for class variables\n",
    "        assert price >= 0, f\"Price {price} is not >= 0\"\n",
    "        assert quantity >= 0, f\"Quantity {quantity} is not >= 0\"\n",
    "        \n",
    "        #Initialization\n",
    "        self.__name = name # This makes it a private variable\n",
    "        self.quantity = quantity\n",
    "        self.__price = price\n",
    "        \n",
    "        # Tracking all objects\n",
    "        Item.all.append(self)\n",
    "    \n",
    "    \n",
    "    @property\n",
    "    def name(self):\n",
    "        #print (\"You are trying to get name\")\n",
    "        return self.__name\n",
    "    \n",
    "    @name.setter\n",
    "    def name(self, value):\n",
    "        #print (\"Hey you called me!! I am your name setter\")\n",
    "        if len(value) > 5:\n",
    "            raise Exception(f\"The name '{value}' is too long\")\n",
    "        else:\n",
    "            self.__name = value\n",
    "        \n",
    "    @property\n",
    "    def price(self):\n",
    "        return self.__price\n",
    "        \n",
    "    def apply_discount(self):\n",
    "        self.__price = self.__price * self.pay_rate\n",
    "        \n",
    "    def apply_increment(self, incr_value):\n",
    "        self.__price = self.__price + self.__price * incr_value\n",
    "    \n",
    "    def calculate(self):\n",
    "        print (f\"Total for {self.name}: {self.quantity * self.__price}\")\n",
    "    # This is a class method .. Others are instance methods\n",
    "    # These methods send class reference as the first argument\n",
    "    @classmethod\n",
    "    def instantiate_from_csv(cls):\n",
    "        with open(\"items.csv\", \"r\") as f:\n",
    "            reader = csv.DictReader(f)\n",
    "            items = list(reader)\n",
    "        \n",
    "        for item in items:\n",
    "            Item(\n",
    "                name=item['name'],\n",
    "                price=float(item['price']),\n",
    "                quantity=int(item['quantity'])\n",
    "            )\n",
    "    \n",
    "    # Static methods dont send the instance as the first argument\n",
    "    # This is like a regular isolated function\n",
    "    @staticmethod\n",
    "    def is_integer(num):\n",
    "        if isinstance(num, float):\n",
    "            #Counts out the floats that are point 0\n",
    "            return num.is_integer()\n",
    "        \n",
    "        elif isinstance(num, int):\n",
    "            return True\n",
    "        \n",
    "        else:\n",
    "            return False\n",
    "    \n",
    "    def __connect(self, smtp_server):\n",
    "        pass\n",
    "    \n",
    "    def __prepare_body(self):\n",
    "        print (f\"\"\"\n",
    "            Hello there!!\n",
    "            We have {self.name} {self.quantity} times.\n",
    "        \"\"\")\n",
    "    \n",
    "    def __send(self):\n",
    "        pass\n",
    "    \n",
    "    def send_email(self):\n",
    "        self.__connect(\"\")\n",
    "        self.__prepare_body()\n",
    "        self.__send()\n",
    "        \n",
    "    def __repr__(self):\n",
    "        return f\"{self.__class__.__name__}('{self.name}', {self.__price}, {self.quantity})\""
   ]
  },
  {
   "cell_type": "code",
   "execution_count": 67,
   "id": "c1ef2852",
   "metadata": {},
   "outputs": [],
   "source": [
    "item = Item(\"item3\", 100, 20)"
   ]
  },
  {
   "cell_type": "code",
   "execution_count": 68,
   "id": "3b5cc908",
   "metadata": {},
   "outputs": [
    {
     "name": "stdout",
     "output_type": "stream",
     "text": [
      "\n",
      "            Hello there!!\n",
      "            We have item3 20 times.\n",
      "        \n"
     ]
    }
   ],
   "source": [
    "item.send_email()"
   ]
  },
  {
   "cell_type": "markdown",
   "id": "802f2091",
   "metadata": {},
   "source": [
    "## Polymorphism - `many forms`\n",
    "* Use single entity to refer to different things"
   ]
  },
  {
   "cell_type": "code",
   "execution_count": 79,
   "id": "0352fd2a",
   "metadata": {},
   "outputs": [],
   "source": [
    "class Keyboard(Item):\n",
    "    pay_rate = 0.8\n",
    "    def __init__(self, name, price, quantity):\n",
    "        super().__init__(name, price, quantity)"
   ]
  },
  {
   "cell_type": "code",
   "execution_count": 86,
   "id": "b151436a",
   "metadata": {},
   "outputs": [],
   "source": [
    "class Phone(Item):\n",
    "    pay_rate = 0.7\n",
    "    def __init__(self, name, price, quantity=0, broken_phones=0):\n",
    "        super().__init__(name, price, quantity)\n",
    "        \n",
    "        assert broken_phones >= 0, f\"Broken phones value {broken_phones} not >=0\"\n",
    "        self.broken_phones = broken_phones"
   ]
  },
  {
   "cell_type": "code",
   "execution_count": 87,
   "id": "4fc4456c",
   "metadata": {},
   "outputs": [],
   "source": [
    "keyboard = Keyboard(\"logitech\", 1000, 2)\n",
    "phone = Phone(\"Samsung\", 1000, 2)"
   ]
  },
  {
   "cell_type": "code",
   "execution_count": 88,
   "id": "1b79d810",
   "metadata": {},
   "outputs": [
    {
     "name": "stdout",
     "output_type": "stream",
     "text": [
      "Keyboard('logitech', 1000, 2)\n"
     ]
    }
   ],
   "source": [
    "print (keyboard)"
   ]
  },
  {
   "cell_type": "code",
   "execution_count": 89,
   "id": "c6d5dd08",
   "metadata": {},
   "outputs": [
    {
     "name": "stdout",
     "output_type": "stream",
     "text": [
      "Phone('Samsung', 1000, 2)\n"
     ]
    }
   ],
   "source": [
    "print (phone)"
   ]
  },
  {
   "cell_type": "code",
   "execution_count": 90,
   "id": "857a3ffd",
   "metadata": {},
   "outputs": [
    {
     "name": "stdout",
     "output_type": "stream",
     "text": [
      "Keyboard('logitech', 800.0, 2)\n"
     ]
    }
   ],
   "source": [
    "keyboard.apply_discount()\n",
    "print (keyboard)"
   ]
  },
  {
   "cell_type": "code",
   "execution_count": 91,
   "id": "0db56385",
   "metadata": {},
   "outputs": [
    {
     "name": "stdout",
     "output_type": "stream",
     "text": [
      "Phone('Samsung', 700.0, 2)\n"
     ]
    }
   ],
   "source": [
    "phone.apply_discount()\n",
    "print (phone)"
   ]
  },
  {
   "cell_type": "markdown",
   "id": "16a21b4d",
   "metadata": {},
   "source": [
    "`Note how pay_rate got used differently within apply_discount function which is defined in Item class`"
   ]
  },
  {
   "cell_type": "code",
   "execution_count": null,
   "id": "b77b6136",
   "metadata": {},
   "outputs": [],
   "source": []
  }
 ],
 "metadata": {
  "kernelspec": {
   "display_name": "Python 3",
   "language": "python",
   "name": "python3"
  },
  "language_info": {
   "codemirror_mode": {
    "name": "ipython",
    "version": 3
   },
   "file_extension": ".py",
   "mimetype": "text/x-python",
   "name": "python",
   "nbconvert_exporter": "python",
   "pygments_lexer": "ipython3",
   "version": "3.8.8"
  }
 },
 "nbformat": 4,
 "nbformat_minor": 5
}
